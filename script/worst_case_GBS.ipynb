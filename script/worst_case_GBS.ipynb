{
 "cells": [
  {
   "cell_type": "code",
   "execution_count": 126,
   "id": "d46bde73",
   "metadata": {},
   "outputs": [],
   "source": [
    "import numpy as np\n",
    "import random\n",
    "\n",
    "from strawberryfields.decompositions import williamson, bloch_messiah\n",
    "\n",
    "from src.gbs_matrices import GraphMatrices, GaussianMatrices\n",
    "from src.symplectic import Symplectic, SymplecticFock, SymplecticXXPP\n",
    "\n",
    "from strawberryfields.decompositions import takagi"
   ]
  },
  {
   "cell_type": "code",
   "execution_count": 12,
   "id": "9a0e3932",
   "metadata": {},
   "outputs": [],
   "source": [
    "import matplotlib.pyplot as plt"
   ]
  },
  {
   "cell_type": "code",
   "execution_count": 324,
   "id": "2c4c52a7",
   "metadata": {},
   "outputs": [],
   "source": [
    "def make_random_graph(M, max_degree):\n",
    "    \"\"\"this is just a different way of doing what you already did, but I wanted to have a go\"\"\"\n",
    "    B = np.zeros((M, M), dtype=int)\n",
    "\n",
    "    all_vertices = np.arange(M)\n",
    "    np.random.shuffle(all_vertices)\n",
    "\n",
    "    for i, start_vertex in enumerate(all_vertices):\n",
    "        end_vertices = all_vertices[i:]\n",
    "        start_vertex_degree = B[start_vertex,:].sum()\n",
    "        possible_edge_ends = np.random.choice(end_vertices, min(max_degree-start_vertex_degree, M-i-1), replace=False)\n",
    "        for possible_edge_end in possible_edge_ends:\n",
    "            end_vertex_degree = B[possible_edge_end,:].sum()\n",
    "            if end_vertex_degree < max_degree:\n",
    "                B[start_vertex, possible_edge_end] = 1\n",
    "                B[possible_edge_end, start_vertex] = 1\n",
    "    \n",
    "    return B"
   ]
  },
  {
   "cell_type": "code",
   "execution_count": null,
   "id": "38a4a277",
   "metadata": {},
   "outputs": [],
   "source": [
    "def squeezing_params(B):\n",
    "    "
   ]
  },
  {
   "cell_type": "code",
   "execution_count": 311,
   "id": "0c0b2fee",
   "metadata": {},
   "outputs": [],
   "source": [
    "# <<<<<<<<<<<<<<<<<<< Basic parameters  >>>>>>>>>>>>>>>>>>\n",
    "M = 6  # Number of modes\n",
    "max_degree = 4  # < M - 1\n",
    "x = - 1 / 4*(max_degree - 1) - 1  # smaller than - 1 / 4*(max_degree - 1)"
   ]
  },
  {
   "cell_type": "code",
   "execution_count": 312,
   "id": "453c32d5",
   "metadata": {},
   "outputs": [],
   "source": [
    "adj_matrix = make_random_graph(M, max_degree)"
   ]
  },
  {
   "cell_type": "code",
   "execution_count": 313,
   "id": "a4663aa1",
   "metadata": {},
   "outputs": [],
   "source": [
    "g_matrix = x * adj_matrix"
   ]
  },
  {
   "cell_type": "code",
   "execution_count": 316,
   "id": "2df5d834",
   "metadata": {},
   "outputs": [],
   "source": [
    "def get_squeeze_params(gamma_vec):\n",
    "    B = g_matrix * np.outer(gamma_vec, gamma_vec)\n",
    "    eigsB = np.linalg.eigvals(B)\n",
    "    inv_c = max(eigsB, key=abs)\n",
    "    cB = 0.5 * B / inv_c\n",
    "    \n",
    "    squeezing = np.arctanh(takagi(cB)[0])\n",
    "    return squeezing"
   ]
  },
  {
   "cell_type": "code",
   "execution_count": 317,
   "id": "1e805436",
   "metadata": {},
   "outputs": [],
   "source": [
    "def cost(gamma_vec):\n",
    "    squeezing = get_squeeze_params(gamma_vec)\n",
    "    return max(squeezing) - min(squeezing)"
   ]
  },
  {
   "cell_type": "code",
   "execution_count": 318,
   "id": "bd34dc31",
   "metadata": {},
   "outputs": [],
   "source": [
    "from scipy.optimize import minimize"
   ]
  },
  {
   "cell_type": "code",
   "execution_count": 319,
   "id": "d6285121",
   "metadata": {},
   "outputs": [],
   "source": [
    "gamma_vec_guess = 0.1 * np.ones(M)\n",
    "result = minimize(cost, x0=gamma_vec_guess)\n",
    "\n",
    "optimised_gamma_vec = result.x"
   ]
  },
  {
   "cell_type": "code",
   "execution_count": 320,
   "id": "0b35140c",
   "metadata": {},
   "outputs": [
    {
     "data": {
      "text/plain": [
       "array([0.08306941, 0.08306941, 0.10213551, 0.11440283, 0.14393728,\n",
       "       0.07546185])"
      ]
     },
     "execution_count": 320,
     "metadata": {},
     "output_type": "execute_result"
    }
   ],
   "source": [
    "optimised_gamma_vec"
   ]
  },
  {
   "cell_type": "code",
   "execution_count": 321,
   "id": "8a6f32fb",
   "metadata": {},
   "outputs": [
    {
     "data": {
      "text/plain": [
       "array([0.54930614, 0.27130726, 0.20908804, 0.1266861 , 0.10527339,\n",
       "       0.10527339])"
      ]
     },
     "execution_count": 321,
     "metadata": {},
     "output_type": "execute_result"
    }
   ],
   "source": [
    "get_squeeze_params(optimised_gamma_vec)"
   ]
  },
  {
   "cell_type": "code",
   "execution_count": 322,
   "id": "6d3bce1c",
   "metadata": {},
   "outputs": [
    {
     "data": {
      "text/plain": [
       "array([0.54930614, 0.24069262, 0.18816834, 0.13846887, 0.11560946,\n",
       "       0.07819936])"
      ]
     },
     "execution_count": 322,
     "metadata": {},
     "output_type": "execute_result"
    }
   ],
   "source": [
    "get_squeeze_params(gamma_vec_guess)"
   ]
  },
  {
   "cell_type": "code",
   "execution_count": 323,
   "id": "b207ae5f",
   "metadata": {},
   "outputs": [
    {
     "name": "stdout",
     "output_type": "stream",
     "text": [
      "0.47110678548393997\n",
      "0.4440327578899577\n"
     ]
    }
   ],
   "source": [
    "print(cost(gamma_vec_guess))\n",
    "print(cost(optimised_gamma_vec))"
   ]
  },
  {
   "cell_type": "code",
   "execution_count": null,
   "id": "ff7c8217",
   "metadata": {},
   "outputs": [],
   "source": []
  }
 ],
 "metadata": {
  "kernelspec": {
   "display_name": "Python 3",
   "language": "python",
   "name": "python3"
  },
  "language_info": {
   "codemirror_mode": {
    "name": "ipython",
    "version": 3
   },
   "file_extension": ".py",
   "mimetype": "text/x-python",
   "name": "python",
   "nbconvert_exporter": "python",
   "pygments_lexer": "ipython3",
   "version": "3.7.10"
  }
 },
 "nbformat": 4,
 "nbformat_minor": 5
}
